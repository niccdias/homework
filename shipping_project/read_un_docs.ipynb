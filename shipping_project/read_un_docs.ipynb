{
 "cells": [
  {
   "cell_type": "code",
   "execution_count": 1,
   "metadata": {
    "collapsed": false
   },
   "outputs": [],
   "source": [
    "import docx2txt as doc\n",
    "import os\n",
    "import pandas as pd"
   ]
  },
  {
   "cell_type": "code",
   "execution_count": 2,
   "metadata": {
    "collapsed": false
   },
   "outputs": [],
   "source": [
    "master_list = []\n",
    "\n",
    "def search_docs(list_terms, directory):\n",
    "    for filename in os.listdir(directory):\n",
    "        if filename.endswith(\".DOCX\") or filename.endswith(\".docx\"):\n",
    "            file_path = directory + \"/\" + filename\n",
    "            text = doc.process(file_path)\n",
    "            for term in list_terms:\n",
    "                term2 = term.upper()\n",
    "                if term2.endswith(' LTD'):\n",
    "                    term2 = term2[:-4]\n",
    "                if term2.endswith(' CO'):\n",
    "                    term2 = term2[:-3]\n",
    "                if term2 in text.upper():\n",
    "                    term_dict = {}\n",
    "                    term_dict['file'] = filename\n",
    "                    term_dict['term'] = term\n",
    "                    master_list.append(term_dict)"
   ]
  },
  {
   "cell_type": "code",
   "execution_count": 3,
   "metadata": {
    "collapsed": false
   },
   "outputs": [],
   "source": [
    "master_list = []\n",
    "term_list = []"
   ]
  },
  {
   "cell_type": "code",
   "execution_count": 4,
   "metadata": {
    "collapsed": false
   },
   "outputs": [],
   "source": [
    "search_docs(term_list, \"/Users/niccdias/Desktop/GSP2/un_docs\")"
   ]
  },
  {
   "cell_type": "code",
   "execution_count": 5,
   "metadata": {
    "collapsed": false
   },
   "outputs": [],
   "source": [
    "matches = pd.DataFrame(master_list)"
   ]
  },
  {
   "cell_type": "code",
   "execution_count": 6,
   "metadata": {
    "collapsed": false
   },
   "outputs": [
    {
     "data": {
      "text/html": [
       "<div>\n",
       "<table border=\"1\" class=\"dataframe\">\n",
       "  <thead>\n",
       "    <tr style=\"text-align: right;\">\n",
       "      <th></th>\n",
       "    </tr>\n",
       "  </thead>\n",
       "  <tbody>\n",
       "  </tbody>\n",
       "</table>\n",
       "</div>"
      ],
      "text/plain": [
       "Empty DataFrame\n",
       "Columns: []\n",
       "Index: []"
      ]
     },
     "execution_count": 6,
     "metadata": {},
     "output_type": "execute_result"
    }
   ],
   "source": [
    "matches"
   ]
  },
  {
   "cell_type": "code",
   "execution_count": 93,
   "metadata": {
    "collapsed": false
   },
   "outputs": [],
   "source": [
    "known_companies = sorted(matches['term'].unique())\n",
    "known_companies = [x for x in known_companies if x != 'Unknown']"
   ]
  },
  {
   "cell_type": "code",
   "execution_count": 98,
   "metadata": {
    "collapsed": false
   },
   "outputs": [
    {
     "data": {
      "text/plain": [
       "(['Aprokgang Shipping & Trading',\n",
       "  'Daohe Shipping Co Ltd',\n",
       "  'Haejin Ship Management Co Ltd',\n",
       "  'Haesong Shipping Co',\n",
       "  'Hoeryong Shipping Co Ltd',\n",
       "  'Hwanggumsan Shipping Co Ltd',\n",
       "  'Hwasong Shipping Co Ltd',\n",
       "  'Hyoksin Shipping Co Ltd',\n",
       "  'Kanggye Shipping Co Ltd',\n",
       "  'Kimchaek Fishery Co',\n",
       "  'Korea 56 Trading Co',\n",
       "  'Korea Amnokgang Trading Co',\n",
       "  'Korea Ansan Shipping Co',\n",
       "  'Korea Buyon Shipping Co',\n",
       "  'Korea Chongunsan Trading',\n",
       "  'Korea Daehung Shipping Co',\n",
       "  'Korea Daehung Transportation',\n",
       "  'Korea Daesong Shipping Co',\n",
       "  'Korea Heungsong',\n",
       "  'Korea Jamaedo Shipping Co',\n",
       "  'Korea Jangsaeng Trading Co',\n",
       "  'Korea Jinhung 8 Shipping Co',\n",
       "  'Korea Jonsung Trading Co',\n",
       "  'Korea Kangsong',\n",
       "  'Korea Kangsong Trading Co',\n",
       "  'Korea Kumbyol Trading Co',\n",
       "  'Korea Kumgang Trading Co',\n",
       "  'Korea Kumpit Shipping Co',\n",
       "  'Korea Kumrung Shipping Co',\n",
       "  'Korea Kumrung Trading Co Ltd',\n",
       "  'Korea Kunhae Co Ltd',\n",
       "  'Korea Lyeming Shipping Co',\n",
       "  'Korea Mandae Trading Co',\n",
       "  'Korea Miyang Shipping Co',\n",
       "  'Korea Mubong Trading Co',\n",
       "  'Korea Osong Shipping Co',\n",
       "  'Korea Puksong Shipping Co',\n",
       "  'Korea Rungrado Shipping Co',\n",
       "  'Korea Ryonhwan Shipping',\n",
       "  'Korea Samilpo Shipping Co',\n",
       "  'Korea Sonbong General Trading',\n",
       "  'Korea Songchongang Trading Co',\n",
       "  'Korea Sungjin Shipping Co',\n",
       "  'Korea Suyangsan Shipping',\n",
       "  'Korea Wangjaesan Shipping Co',\n",
       "  'Korea Yujong Shipping Co Ltd',\n",
       "  'Kumsan Shipping Co',\n",
       "  'Magnolia MGA Shipping Co Ltd',\n",
       "  'Manpung Shipping Co',\n",
       "  'Orang Shipping Co Ltd',\n",
       "  'Pongsu Shipping Co',\n",
       "  'Pyongjin Ship Management Co',\n",
       "  'Ryonggang Shipping Co Ltd',\n",
       "  'Ryonggunbong Shipping Co Ltd',\n",
       "  'Ryongrim Shipping Co Ltd',\n",
       "  'Sinpo Fishery Co',\n",
       "  'Sohae Sonbak Co Ltd',\n",
       "  'Solsong Shipping Co',\n",
       "  'Songjin Shipping Co Ltd',\n",
       "  'South Hamgyong Province',\n",
       "  'Sun Shipping Co Ltd',\n",
       "  'Tonghung Shipping & Trading',\n",
       "  'Tonghungsan Shipping Co Ltd',\n",
       "  'Yongjin Ship Management Co',\n",
       "  'Yusong Shipping Co'],\n",
       " 65)"
      ]
     },
     "execution_count": 98,
     "metadata": {},
     "output_type": "execute_result"
    }
   ],
   "source": [
    "known_companies, len(known_companies)"
   ]
  },
  {
   "cell_type": "code",
   "execution_count": null,
   "metadata": {
    "collapsed": true
   },
   "outputs": [],
   "source": []
  }
 ],
 "metadata": {
  "anaconda-cloud": {},
  "kernelspec": {
   "display_name": "Python 2",
   "language": "python",
   "name": "python2"
  },
  "language_info": {
   "codemirror_mode": {
    "name": "ipython",
    "version": 2
   },
   "file_extension": ".py",
   "mimetype": "text/x-python",
   "name": "python",
   "nbconvert_exporter": "python",
   "pygments_lexer": "ipython2",
   "version": "2.7.12"
  }
 },
 "nbformat": 4,
 "nbformat_minor": 0
}
