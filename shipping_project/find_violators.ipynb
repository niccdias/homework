{
 "cells": [
  {
   "cell_type": "markdown",
   "metadata": {},
   "source": [
    "# Import"
   ]
  },
  {
   "cell_type": "code",
   "execution_count": 1,
   "metadata": {
    "collapsed": false
   },
   "outputs": [],
   "source": [
    "import pandas as pd\n",
    "import re\n",
    "import datetime"
   ]
  },
  {
   "cell_type": "code",
   "execution_count": 2,
   "metadata": {
    "collapsed": false
   },
   "outputs": [],
   "source": [
    "data = pd.read_csv(\"/Users/niccdias/Desktop/IHS_Data.csv\", header = 0)\n",
    "data = data.drop(data.index[[0]])"
   ]
  },
  {
   "cell_type": "code",
   "execution_count": 3,
   "metadata": {
    "collapsed": false
   },
   "outputs": [],
   "source": [
    "leo_1 = pd.read_csv(\"~/Desktop/leo_3-3(1).csv\", header = 0)\n",
    "leo_2 = pd.read_csv(\"~/Desktop/leo_3-3(2).csv\", header = 0)\n",
    "leo_1 = leo_1.drop(leo_1.index[[0]])\n",
    "leo_2 = leo_2.drop(leo_2.index[[0]])\n",
    "\n",
    "#data2 = pd.read_csv(\"~/Desktop/nk_news.csv\", header = 0)\n",
    "#data2 = data2.drop(data2.index[[0]])"
   ]
  },
  {
   "cell_type": "code",
   "execution_count": 4,
   "metadata": {
    "collapsed": false
   },
   "outputs": [],
   "source": [
    "data2 = leo_1.append(leo_2)\n",
    "data2 = data2.reset_index()\n",
    "del data2['index']"
   ]
  },
  {
   "cell_type": "markdown",
   "metadata": {},
   "source": [
    "# Define cleaning and formatting functions"
   ]
  },
  {
   "cell_type": "code",
   "execution_count": 5,
   "metadata": {
    "collapsed": true
   },
   "outputs": [],
   "source": [
    "# Create zero padding for day of the month\n",
    "def zero_padding(date):\n",
    "    match = re.search('([A-Za-z]+\\s)(\\d*)(,\\s\\d\\d\\d\\d)', date)\n",
    "    if match and len(match.groups(0)[1]) == 1:\n",
    "        day_of_month = \"0\" + match.groups(0)[1]\n",
    "        return match.groups(0)[0] + day_of_month + match.groups(0)[2]\n",
    "    else:\n",
    "        return date"
   ]
  },
  {
   "cell_type": "code",
   "execution_count": 6,
   "metadata": {
    "collapsed": false
   },
   "outputs": [],
   "source": [
    "# Convert to dates to datetime format\n",
    "def ihs_datetimer(text):\n",
    "    match = re.search('([A-Za-z]+\\s)(\\d\\d)(,\\s\\d\\d\\d\\d)', text)\n",
    "    match2 = re.search('([A-Za-z]+\\s\\d\\d\\d\\d)', text)\n",
    "    if text == '0000':\n",
    "        return 'ERROR'\n",
    "    elif len(text) == 4:\n",
    "        return pd.to_datetime(text, format='%Y')\n",
    "    elif match:\n",
    "        return pd.to_datetime(text, format='%B %d, %Y')\n",
    "    elif match2:\n",
    "        return pd.to_datetime(text, format='%B %Y')\n",
    "    else:\n",
    "        return 'ERROR'"
   ]
  },
  {
   "cell_type": "markdown",
   "metadata": {},
   "source": [
    "# Define functions for building the dataframe"
   ]
  },
  {
   "cell_type": "code",
   "execution_count": 7,
   "metadata": {
    "collapsed": true
   },
   "outputs": [],
   "source": [
    "def doc_comp_co(text):\n",
    "    today = pd.to_datetime(datetime.date.today())\n",
    "    vessel = re.findall('IMO\\) NUMBER: (\\d*)', text)\n",
    "    status = re.findall('SHIP STATUS:\\s+(.*)\\r\\n\\s*.*?[A-Z]+:*', text)\n",
    "    header = \"COMPANY                       EFFECTIVE DATE           COMPANY STATUS\\r\\n\"\n",
    "    header_index = text.find(header)\n",
    "    table = text[header_index + len(header):]\n",
    "    blank_index = table.find(\"\\r\\n\\r\\n\")\n",
    "    table = table[0:blank_index]\n",
    "    lines = table.split('\\r\\n')\n",
    "    for line in lines:\n",
    "        if line[29:55].strip() != \"\":\n",
    "            node = line[0:30].strip()\n",
    "            if node == \"\":\n",
    "                node = \"Unknown\"\n",
    "            date = line[29:55].strip()\n",
    "            ship_dict = {}\n",
    "            ship_dict[\"relation\"] = 'doc_comp_co'\n",
    "            ship_dict[\"imo\"] = pd.to_numeric(vessel[0])\n",
    "            ship_dict[\"ship_current_status\"] = status[0]\n",
    "            ship_dict[\"node\"] = node\n",
    "            ship_dict[\"start_date\"] = ihs_datetimer(zero_padding(date))\n",
    "            ship_dict['end_date'] = today\n",
    "            master_list.append(ship_dict)\n",
    "            today = ihs_datetimer(zero_padding(date))\n",
    "        else:\n",
    "            rest_of_name = line[0:30].strip()\n",
    "            master_list[-1]['node'] = master_list[-1]['node'] + \" \" + rest_of_name"
   ]
  },
  {
   "cell_type": "code",
   "execution_count": 8,
   "metadata": {
    "collapsed": false
   },
   "outputs": [],
   "source": [
    "def flag_history(text):\n",
    "    today = pd.to_datetime(datetime.date.today())\n",
    "    vessel = re.findall('IMO\\) NUMBER: (\\d*)', text)\n",
    "    status = re.findall('SHIP STATUS:\\s+(.*)\\r\\n\\s*.*?[A-Z]+:*', text)\n",
    "    header = \"FLAG                          FLAG CODE                EFFECTIVE DATE\\r\\n\"\n",
    "    header_index = text.find(header)\n",
    "    table = text[header_index + len(header):]\n",
    "    blank_index = table.find(\"\\r\\n\\r\\n\")\n",
    "    table = table[0:blank_index]\n",
    "    lines = table.split('\\r\\n')\n",
    "    for line in lines:\n",
    "        if line[29:55].strip() != \"\":\n",
    "            node = line[0:30].strip()\n",
    "            if node == \"\":\n",
    "                node = \"Unknown\"\n",
    "            date = line[54:].strip()\n",
    "            ship_dict = {}\n",
    "            ship_dict[\"relation\"] = 'flag'\n",
    "            ship_dict[\"imo\"] = pd.to_numeric(vessel[0])\n",
    "            ship_dict[\"ship_current_status\"] = status[0]\n",
    "            ship_dict[\"node\"] = node\n",
    "            ship_dict[\"start_date\"] = ihs_datetimer(zero_padding(date))\n",
    "            ship_dict['end_date'] = today\n",
    "            master_list.append(ship_dict)\n",
    "            today = ihs_datetimer(zero_padding(date))\n",
    "        else:\n",
    "            rest_of_name = line[0:30].strip()\n",
    "            master_list[-1]['node'] = master_list[-1]['node'] + \" \" + rest_of_name"
   ]
  },
  {
   "cell_type": "code",
   "execution_count": 9,
   "metadata": {
    "collapsed": true
   },
   "outputs": [],
   "source": [
    "def name_history(text):\n",
    "    today = pd.to_datetime(datetime.date.today())\n",
    "    vessel = re.findall('IMO\\) NUMBER: (\\d*)', text)\n",
    "    status = re.findall('SHIP STATUS:\\s+(.*)\\r\\n\\s*.*?[A-Z]+:*', text)\n",
    "    header = \"VESSEL NAME                          EFFECTIVE DATE\\r\\n\"\n",
    "    header_index = text.find(header)\n",
    "    table = text[header_index + len(header):]\n",
    "    blank_index = table.find(\"\\r\\n\\r\\n\")\n",
    "    table = table[0:blank_index]\n",
    "    lines = table.split('\\r\\n')\n",
    "    for line in lines:\n",
    "        if line[37:].strip() != \"\":\n",
    "            node = line[0:37].strip()\n",
    "            if node == \"\":\n",
    "                node = \"Unknown\"\n",
    "            date = line[37:].strip()\n",
    "            ship_dict = {}\n",
    "            ship_dict[\"relation\"] = 'ship_name'\n",
    "            ship_dict[\"imo\"] = pd.to_numeric(vessel[0])\n",
    "            ship_dict[\"ship_current_status\"] = status[0]\n",
    "            ship_dict[\"node\"] = node\n",
    "            ship_dict[\"start_date\"] = ihs_datetimer(zero_padding(date))\n",
    "            ship_dict['end_date'] = today\n",
    "            master_list.append(ship_dict)\n",
    "            today = ihs_datetimer(zero_padding(date))\n",
    "        else:\n",
    "            rest_of_name = line[0:37].strip()\n",
    "            master_list[-1]['node'] = master_list[-1]['node'] + \" \" + rest_of_name"
   ]
  },
  {
   "cell_type": "code",
   "execution_count": 10,
   "metadata": {
    "collapsed": true
   },
   "outputs": [],
   "source": [
    "def operator_history(text):\n",
    "    today = pd.to_datetime(datetime.date.today())\n",
    "    vessel = re.findall('IMO\\) NUMBER: (\\d*)', text)\n",
    "    status = re.findall('SHIP STATUS:\\s+(.*)\\r\\n\\s*.*?[A-Z]+:*', text)\n",
    "    header = \"OPERATOR                      EFFECTIVE DATE           COMPANY STATUS\\r\\n\"\n",
    "    header_index = text.find(header)\n",
    "    table = text[header_index + len(header):]\n",
    "    blank_index = table.find(\"\\r\\n\\r\\n\")\n",
    "    table = table[0:blank_index]\n",
    "    lines = table.split('\\r\\n')\n",
    "    for line in lines:\n",
    "        if line[29:55].strip() != \"\":\n",
    "            node = line[0:30].strip()\n",
    "            if node == \"\":\n",
    "                node = \"Unknown\"\n",
    "            date = line[29:55].strip()\n",
    "            ship_dict = {}\n",
    "            ship_dict[\"relation\"] = 'operator'\n",
    "            ship_dict[\"imo\"] = pd.to_numeric(vessel[0])\n",
    "            ship_dict[\"ship_current_status\"] = status[0]\n",
    "            ship_dict[\"node\"] = node\n",
    "            ship_dict[\"start_date\"] = ihs_datetimer(zero_padding(date))\n",
    "            ship_dict['end_date'] = today\n",
    "            master_list.append(ship_dict)\n",
    "            today = ihs_datetimer(zero_padding(date))\n",
    "        else:\n",
    "            rest_of_name = line[0:30].strip()\n",
    "            master_list[-1]['node'] = master_list[-1]['node'] + \" \" + rest_of_name"
   ]
  },
  {
   "cell_type": "code",
   "execution_count": 11,
   "metadata": {
    "collapsed": true
   },
   "outputs": [],
   "source": [
    "def gbo_history(text):\n",
    "    today = pd.to_datetime(datetime.date.today())\n",
    "    vessel = re.findall('IMO\\) NUMBER: (\\d*)', text)\n",
    "    status = re.findall('SHIP STATUS:\\s+(.*)\\r\\n\\s*.*?[A-Z]+:*', text)\n",
    "    header = \"GROUP BENEFICIAL OWNER        EFFECTIVE DATE           COMPANY STATUS\\r\\n\"\n",
    "    header_index = text.find(header)\n",
    "    table = text[header_index + len(header):]\n",
    "    blank_index = table.find(\"\\r\\n\\r\\n\")\n",
    "    table = table[0:blank_index]\n",
    "    lines = table.split('\\r\\n')\n",
    "    for line in lines:\n",
    "        if line[29:55].strip() != \"\":\n",
    "            node = line[0:30].strip()\n",
    "            if node == \"\":\n",
    "                node = \"Unknown\"\n",
    "            date = line[29:55].strip()\n",
    "            ship_dict = {}\n",
    "            ship_dict[\"relation\"] = 'gbo'\n",
    "            ship_dict[\"imo\"] = pd.to_numeric(vessel[0])\n",
    "            ship_dict[\"ship_current_status\"] = status[0]\n",
    "            ship_dict[\"node\"] = node\n",
    "            ship_dict[\"start_date\"] = ihs_datetimer(zero_padding(date))\n",
    "            ship_dict['end_date'] = today\n",
    "            master_list.append(ship_dict)\n",
    "            today = ihs_datetimer(zero_padding(date))\n",
    "        else:\n",
    "            rest_of_name = line[0:30].strip()\n",
    "            master_list[-1]['node'] = master_list[-1]['node'] + \" \" + rest_of_name"
   ]
  },
  {
   "cell_type": "code",
   "execution_count": 12,
   "metadata": {
    "collapsed": true
   },
   "outputs": [],
   "source": [
    "def reg_owner_history(text):\n",
    "    today = pd.to_datetime(datetime.date.today())\n",
    "    vessel = re.findall('IMO\\) NUMBER: (\\d*)', text)\n",
    "    status = re.findall('SHIP STATUS:\\s+(.*)\\r\\n\\s*.*?[A-Z]+:*', text)\n",
    "    header = \"OWNER                         EFFECTIVE DATE           COMPANY STATUS\\r\\n\"\n",
    "    header_index = text.find(header)\n",
    "    table = text[header_index + len(header):]\n",
    "    blank_index = table.find(\"\\r\\n\\r\\n\")\n",
    "    table = table[0:blank_index]\n",
    "    lines = table.split('\\r\\n')\n",
    "    for line in lines:\n",
    "        if line[29:55].strip() != \"\":\n",
    "            node = line[0:30].strip()\n",
    "            if node == \"\":\n",
    "                node = \"Unknown\"\n",
    "            date = line[29:55].strip()\n",
    "            ship_dict = {}\n",
    "            ship_dict[\"relation\"] = 'reg_owner'\n",
    "            ship_dict[\"imo\"] = pd.to_numeric(vessel[0])\n",
    "            ship_dict[\"ship_current_status\"] = status[0]\n",
    "            ship_dict[\"node\"] = node\n",
    "            ship_dict[\"start_date\"] = ihs_datetimer(zero_padding(date))\n",
    "            ship_dict['end_date'] = today\n",
    "            master_list.append(ship_dict)\n",
    "            today = ihs_datetimer(zero_padding(date))\n",
    "        else:\n",
    "            rest_of_name = line[0:30].strip()\n",
    "            master_list[-1]['node'] = master_list[-1]['node'] + \" \" + rest_of_name"
   ]
  },
  {
   "cell_type": "code",
   "execution_count": 13,
   "metadata": {
    "collapsed": true
   },
   "outputs": [],
   "source": [
    "def ship_man_history(text):\n",
    "    today = pd.to_datetime(datetime.date.today())\n",
    "    vessel = re.findall('IMO\\) NUMBER: (\\d*)', text)\n",
    "    status = re.findall('SHIP STATUS:\\s+(.*)\\r\\n\\s*.*?[A-Z]+:*', text)\n",
    "    header = \"SHIP MANAGER                  EFFECTIVE DATE           COMPANY STATUS\\r\\n\"\n",
    "    header_index = text.find(header)\n",
    "    table = text[header_index + len(header):]\n",
    "    blank_index = table.find(\"\\r\\n\\r\\n\")\n",
    "    table = table[0:blank_index]\n",
    "    lines = table.split('\\r\\n')\n",
    "    for line in lines:\n",
    "        if line[29:55].strip() != \"\":\n",
    "            node = line[0:30].strip()\n",
    "            if node == \"\":\n",
    "                node = \"Unknown\"\n",
    "            date = line[29:55].strip()\n",
    "            ship_dict = {}\n",
    "            ship_dict[\"relation\"] = 'ship_manager'\n",
    "            ship_dict[\"imo\"] = pd.to_numeric(vessel[0])\n",
    "            ship_dict[\"ship_current_status\"] = status[0]\n",
    "            ship_dict[\"node\"] = node\n",
    "            ship_dict[\"start_date\"] = ihs_datetimer(zero_padding(date))\n",
    "            ship_dict['end_date'] = today\n",
    "            master_list.append(ship_dict)\n",
    "            today = ihs_datetimer(zero_padding(date))\n",
    "        else:\n",
    "            rest_of_name = line[0:30].strip()\n",
    "            master_list[-1]['node'] = master_list[-1]['node'] + \" \" + rest_of_name"
   ]
  },
  {
   "cell_type": "code",
   "execution_count": 14,
   "metadata": {
    "collapsed": true
   },
   "outputs": [],
   "source": [
    "def tech_man_history(text):\n",
    "    today = pd.to_datetime(datetime.date.today())\n",
    "    vessel = re.findall('IMO\\) NUMBER: (\\d*)', text)\n",
    "    status = re.findall('SHIP STATUS:\\s+(.*)\\r\\n\\s*.*?[A-Z]+:*', text)\n",
    "    header = \"TECHNICAL MANAGER             EFFECTIVE DATE           COMPANY STATUS\\r\\n\"\n",
    "    header_index = text.find(header)\n",
    "    table = text[header_index + len(header):]\n",
    "    blank_index = table.find(\"\\r\\n\\r\\n\")\n",
    "    table = table[0:blank_index]\n",
    "    lines = table.split('\\r\\n')\n",
    "    for line in lines:\n",
    "        if line[29:55].strip() != \"\":\n",
    "            node = line[0:30].strip()\n",
    "            if node == \"\":\n",
    "                node = \"Unknown\"\n",
    "            date = line[29:55].strip()\n",
    "            ship_dict = {}\n",
    "            ship_dict[\"relation\"] = 'tech_manager'\n",
    "            ship_dict[\"imo\"] = pd.to_numeric(vessel[0])\n",
    "            ship_dict[\"ship_current_status\"] = status[0]\n",
    "            ship_dict[\"node\"] = node\n",
    "            ship_dict[\"start_date\"] = ihs_datetimer(zero_padding(date))\n",
    "            ship_dict['end_date'] = today\n",
    "            master_list.append(ship_dict)\n",
    "            today = ihs_datetimer(zero_padding(date))\n",
    "        else:\n",
    "            rest_of_name = line[0:30].strip()\n",
    "            master_list[-1]['node'] = master_list[-1]['node'] + \" \" + rest_of_name"
   ]
  },
  {
   "cell_type": "markdown",
   "metadata": {},
   "source": [
    "# Build the dataframe and clean the flag names"
   ]
  },
  {
   "cell_type": "code",
   "execution_count": 15,
   "metadata": {
    "collapsed": false
   },
   "outputs": [],
   "source": [
    "master_list = []\n",
    "data[\"column1\"].apply(doc_comp_co)\n",
    "data[\"column1\"].apply(flag_history)\n",
    "data[\"column1\"].apply(name_history)\n",
    "data[\"column1\"].apply(operator_history)\n",
    "data[\"column1\"].apply(gbo_history)\n",
    "data[\"column1\"].apply(reg_owner_history)\n",
    "data[\"column1\"].apply(ship_man_history)\n",
    "data[\"column1\"].apply(tech_man_history)\n",
    "df = pd.DataFrame(master_list)\n",
    "df = df[df['end_date'] != 'ERROR']\n",
    "df = df[df['start_date'] != 'ERROR']"
   ]
  },
  {
   "cell_type": "code",
   "execution_count": 15,
   "metadata": {
    "collapsed": false
   },
   "outputs": [],
   "source": [
    "master_list = []\n",
    "data2[\"column1\"].apply(doc_comp_co)\n",
    "data2[\"column1\"].apply(flag_history)\n",
    "data2[\"column1\"].apply(name_history)\n",
    "data2[\"column1\"].apply(operator_history)\n",
    "data2[\"column1\"].apply(gbo_history)\n",
    "data2[\"column1\"].apply(reg_owner_history)\n",
    "data2[\"column1\"].apply(ship_man_history)\n",
    "data2[\"column1\"].apply(tech_man_history)\n",
    "df2 = pd.DataFrame(master_list)"
   ]
  },
  {
   "cell_type": "markdown",
   "metadata": {},
   "source": [
    "# Find those baddies"
   ]
  },
  {
   "cell_type": "code",
   "execution_count": 16,
   "metadata": {
    "collapsed": false
   },
   "outputs": [],
   "source": [
    "def date_range(start, end):\n",
    "    delta = end - start\n",
    "    dates = []\n",
    "    for i in range(delta.days + 1):\n",
    "        dates.append(start + datetime.timedelta(days=i))\n",
    "    return dates"
   ]
  },
  {
   "cell_type": "code",
   "execution_count": 17,
   "metadata": {
    "collapsed": false
   },
   "outputs": [],
   "source": [
    "def find_2270_baddies(imo):\n",
    "    today = pd.to_datetime(datetime.date.today())\n",
    "    global baddy_list\n",
    "    global res_date\n",
    "    global imo_list\n",
    "    global vio_list\n",
    "    if imo not in imo_list:\n",
    "        vessel = df[df['imo'] == imo]\n",
    "        nk_flag_periods = vessel[(vessel['relation'] == 'flag') & (vessel['node'] == \"North Korea\")]\n",
    "        for start, end in zip(nk_flag_periods['start_date'], nk_flag_periods['end_date']):\n",
    "            for index, row in vessel[vessel['relation'].isin(vio_list)].iterrows():\n",
    "                nk_range = date_range(start, end)\n",
    "                row_range = date_range(row['start_date'], row['end_date'])            \n",
    "                overlap = set(nk_range).intersection(row_range)\n",
    "                if overlap:\n",
    "                    overlap_start = min(overlap)\n",
    "                    overlap_end = max(overlap)\n",
    "                    if (overlap_start <= today)  and  (overlap_end >= res_date):\n",
    "                        baddy_dict = {}\n",
    "                        baddy_dict['relation'] = row['relation']\n",
    "                        baddy_dict['imo'] = row['imo']\n",
    "                        baddy_dict['node'] = row['node']\n",
    "                        baddy_dict['ship_current_status'] = row['ship_current_status']\n",
    "                        baddy_list.append(baddy_dict)\n",
    "        imo_list.append(imo)"
   ]
  },
  {
   "cell_type": "code",
   "execution_count": 20,
   "metadata": {
    "collapsed": false
   },
   "outputs": [],
   "source": [
    "current_nk_flags = df[(df['node'] == \"North Korea\") & (df['end_date'] == pd.to_datetime(datetime.date.today()))]"
   ]
  },
  {
   "cell_type": "code",
   "execution_count": 27,
   "metadata": {
    "collapsed": false
   },
   "outputs": [
    {
     "data": {
      "text/plain": [
       "array([8985036, 8829579, 8989874, 8021579, 7036383, 9534652, 6409466,\n",
       "       8898831, 7522435, 8882052, 7238785, 8898740, 8925012, 8106496,\n",
       "       7827861, 7379618, 8610461, 8221222, 8122347, 8989795, 8963600,\n",
       "       8712362, 8151415, 6817948, 7313822, 8987333, 7303803, 8018900,\n",
       "       8217685, 8999544, 8415433, 8810384, 8518962, 9103635, 7914212,\n",
       "       8731497, 9159787, 8898738, 8974099, 8890580, 8629101, 7418373,\n",
       "       8922709, 8406858, 7524275, 8672691, 8922412, 8730998, 8850499,\n",
       "       8882040, 8838128, 7206641, 8883707, 8408595, 8672299, 8672287,\n",
       "       8732908, 8720436, 7354565, 7122120, 8990550, 8613578, 8202472,\n",
       "       7722607, 8503735, 8989068, 8916293, 8824220, 8966535, 8201870,\n",
       "       8123145, 8029789, 8004428, 7209095, 8891857, 7122235, 8891883,\n",
       "       8661575, 8732037, 9055618, 8210699, 7916777, 7913438, 7910383,\n",
       "       8850011, 7431117, 7506118, 8832227, 7327419, 7225324, 7209112,\n",
       "       8150605, 8891871, 8743660, 8651415, 8680014, 8603286, 7518642,\n",
       "       7402178, 9004073, 8405311, 8658267, 6908096, 8995990, 8672897,\n",
       "       8983404, 9066540, 8503228, 9361407, 9338979, 8029985, 7303279,\n",
       "       8913186, 8660313, 9338981, 8922436, 8713471, 8630382, 8408193,\n",
       "       7389704, 8955495, 9054688, 8862155, 8604917, 9089372, 8703933,\n",
       "       8891900, 9020223, 9004671, 8817289, 8625545, 8511251, 9364899,\n",
       "       9298076, 8735924, 8904824, 8705539, 8319005, 9050967, 8323537,\n",
       "       9092991, 8133530, 8649840, 9066978, 8604541, 8627804, 8323812,\n",
       "       8303290, 7903794, 7937317, 8977900, 8829555, 8606173, 8829593,\n",
       "       8915275, 8832136, 7408873, 8748713, 9000766, 9041552, 8850865,\n",
       "       9035967, 8324256, 9098206, 8661719, 9314650, 8415287, 8400854,\n",
       "       8306929, 8416009, 8914075, 9138680, 9036533, 8856962, 8909575,\n",
       "       8520719, 9024889, 8511809, 8620454, 8203933, 8032683, 7640378,\n",
       "       8937675, 8416023, 8713457, 8739396, 9020534, 8828927, 8405270,\n",
       "       8018912, 8863733, 8312435, 8819017, 8325016, 9021576, 8905490,\n",
       "       8417962, 8408791, 8314811, 9009085, 9061227, 8717910])"
      ]
     },
     "execution_count": 27,
     "metadata": {},
     "output_type": "execute_result"
    }
   ],
   "source": [
    "current_nk_flags['imo'].unique()"
   ]
  },
  {
   "cell_type": "code",
   "execution_count": null,
   "metadata": {
    "collapsed": false
   },
   "outputs": [],
   "source": [
    "res_date = pd.to_datetime(datetime.date.today())\n",
    "baddy_list = []\n",
    "imo_list = []\n",
    "vio_list = ['gbo', 'doc_comp_co', 'reg_owner']\n",
    "\n",
    "df['imo'].apply(find_2270_baddies)\n",
    "baddies = pd.DataFrame(baddy_list)\n",
    "baddies = baddies[baddies['ship_current_status'] == \"In Service/Commission\"]"
   ]
  },
  {
   "cell_type": "code",
   "execution_count": 18,
   "metadata": {
    "collapsed": false
   },
   "outputs": [],
   "source": [
    "def cleaner(x):\n",
    "    x = x.replace(\"\\xa0\", \" \")\n",
    "    return x\n",
    "un_list = pd.read_excel(\"~/Desktop/Assignments/GSP2/un_countries.xlsx\", header = 0)\n",
    "un_list = list(un_list['flag_states'].apply(cleaner))"
   ]
  },
  {
   "cell_type": "code",
   "execution_count": 19,
   "metadata": {
    "collapsed": false
   },
   "outputs": [],
   "source": [
    "def find_2321_baddies(imo):\n",
    "    today = pd.to_datetime(datetime.date.today())\n",
    "    global baddy_list\n",
    "    global res_date\n",
    "    global un_list\n",
    "    global imo_list\n",
    "    if imo not in imo_list:\n",
    "        vessel = df2.loc[df2['imo'] == imo]\n",
    "        non_nk_flags = vessel.loc[(vessel['relation'] == 'flag') & (vessel['node'].isin(un_list))]\n",
    "        for index, row in non_nk_flags.iterrows():\n",
    "            if (row['start_date'] <= today)  &  (row['end_date'] >= res_date):\n",
    "                            baddy_dict = {}\n",
    "                            baddy_dict['relation'] = row['relation']\n",
    "                            baddy_dict['imo'] = row['imo']\n",
    "                            baddy_dict['start_date'] = row['start_date']\n",
    "                            baddy_dict['end_date'] = row['end_date']\n",
    "                            baddy_dict['node'] = row['node']\n",
    "                            baddy_list.append(baddy_dict)\n",
    "            imo_list.append(imo)"
   ]
  },
  {
   "cell_type": "code",
   "execution_count": 23,
   "metadata": {
    "collapsed": false,
    "scrolled": false
   },
   "outputs": [
    {
     "data": {
      "text/plain": [
       "0       None\n",
       "1       None\n",
       "2       None\n",
       "3       None\n",
       "4       None\n",
       "5       None\n",
       "6       None\n",
       "7       None\n",
       "8       None\n",
       "9       None\n",
       "10      None\n",
       "11      None\n",
       "12      None\n",
       "13      None\n",
       "14      None\n",
       "15      None\n",
       "16      None\n",
       "17      None\n",
       "18      None\n",
       "19      None\n",
       "20      None\n",
       "21      None\n",
       "22      None\n",
       "23      None\n",
       "24      None\n",
       "25      None\n",
       "26      None\n",
       "27      None\n",
       "28      None\n",
       "29      None\n",
       "        ... \n",
       "3233    None\n",
       "3234    None\n",
       "3235    None\n",
       "3236    None\n",
       "3237    None\n",
       "3238    None\n",
       "3239    None\n",
       "3240    None\n",
       "3241    None\n",
       "3242    None\n",
       "3243    None\n",
       "3244    None\n",
       "3245    None\n",
       "3246    None\n",
       "3247    None\n",
       "3248    None\n",
       "3249    None\n",
       "3250    None\n",
       "3251    None\n",
       "3252    None\n",
       "3253    None\n",
       "3254    None\n",
       "3255    None\n",
       "3256    None\n",
       "3257    None\n",
       "3258    None\n",
       "3259    None\n",
       "3260    None\n",
       "3261    None\n",
       "3262    None\n",
       "Name: imo, dtype: object"
      ]
     },
     "execution_count": 23,
     "metadata": {},
     "output_type": "execute_result"
    }
   ],
   "source": [
    "res_date = pd.to_datetime(\"November 30, 2016\", format='%B %d, %Y')\n",
    "baddy_list = []\n",
    "imo_list = []\n",
    "\n",
    "df2['imo'].apply(find_2321_baddies)"
   ]
  },
  {
   "cell_type": "code",
   "execution_count": 36,
   "metadata": {
    "collapsed": false
   },
   "outputs": [
    {
     "data": {
      "text/plain": [
       "Togo            14\n",
       "Tanzania         9\n",
       "Panama           8\n",
       "Fiji             7\n",
       "Sierra Leone     6\n",
       "Unknown          6\n",
       "Jamaica          5\n",
       "Belize           4\n",
       "Micronesia       4\n",
       "Moldova          3\n",
       "Palau            2\n",
       "Mongolia         2\n",
       "South Korea      1\n",
       "Cook Islands     1\n",
       "Name: node, dtype: int64"
      ]
     },
     "execution_count": 36,
     "metadata": {},
     "output_type": "execute_result"
    }
   ],
   "source": [
    "bad_flaggers = pd.DataFrame(baddy_list)\n",
    "bad_flaggers[\"node\"].value_counts()"
   ]
  },
  {
   "cell_type": "markdown",
   "metadata": {},
   "source": [
    "# Count Table for Visualization"
   ]
  },
  {
   "cell_type": "code",
   "execution_count": 20,
   "metadata": {
    "collapsed": false
   },
   "outputs": [
    {
     "name": "stderr",
     "output_type": "stream",
     "text": [
      "/Users/niccdias/anaconda/envs/py3k/lib/python3.5/site-packages/ipykernel/__main__.py:1: SettingWithCopyWarning: \n",
      "A value is trying to be set on a copy of a slice from a DataFrame\n",
      "\n",
      "See the caveats in the documentation: http://pandas.pydata.org/pandas-docs/stable/indexing.html#indexing-view-versus-copy\n",
      "  if __name__ == '__main__':\n"
     ]
    }
   ],
   "source": [
    "df2['node'][df2['node'] == 'Tanzania (Zanzibar)'] = \"Tanzania\" "
   ]
  },
  {
   "cell_type": "code",
   "execution_count": 21,
   "metadata": {
    "collapsed": false
   },
   "outputs": [],
   "source": [
    "def count_table(df, first_date):\n",
    "    flags = df[df['relation'] == 'flag']\n",
    "    today = pd.to_datetime(datetime.date.today())\n",
    "    rows = pd.date_range(first_date, today)\n",
    "    columns = flags['node'].unique()\n",
    "    count_df = pd.DataFrame(index=rows, columns=columns)\n",
    "    count_df = count_df.fillna(0)\n",
    "    for day in rows:\n",
    "        for index, row in flags.iterrows():\n",
    "            if (day >= row['start_date']) and (day <= row['end_date']):\n",
    "                cell = count_df[row['node']][day]\n",
    "                cell += 1\n",
    "                count_df.set_value(day, row['node'], cell)\n",
    "            else:\n",
    "                continue\n",
    "    return count_df"
   ]
  },
  {
   "cell_type": "code",
   "execution_count": 27,
   "metadata": {
    "collapsed": false
   },
   "outputs": [],
   "source": [
    "first_date = pd.to_datetime(\"February 1, 2017\", format='%B %d, %Y')\n",
    "count_df = count_table(df2, first_date)"
   ]
  },
  {
   "cell_type": "code",
   "execution_count": 42,
   "metadata": {
    "collapsed": false
   },
   "outputs": [],
   "source": [
    "columns = []\n",
    "for column in count_df:\n",
    "    cells = []\n",
    "    for cell in count_df[column]:\n",
    "        if int(cell) > 5:\n",
    "            cells.append(1)\n",
    "    if sum(cells) == 0:\n",
    "        del count_df[column]"
   ]
  },
  {
   "cell_type": "code",
   "execution_count": 24,
   "metadata": {
    "collapsed": false
   },
   "outputs": [],
   "source": [
    "count_df = count_df.interpolate(method='linear')"
   ]
  },
  {
   "cell_type": "code",
   "execution_count": 28,
   "metadata": {
    "collapsed": false
   },
   "outputs": [],
   "source": [
    "count_df.to_csv(path_or_buf='~/Desktop/Assignments/GSP2/count_table.csv')"
   ]
  }
 ],
 "metadata": {
  "anaconda-cloud": {},
  "kernelspec": {
   "display_name": "Python 3",
   "language": "python",
   "name": "python3"
  },
  "language_info": {
   "codemirror_mode": {
    "name": "ipython",
    "version": 3
   },
   "file_extension": ".py",
   "mimetype": "text/x-python",
   "name": "python",
   "nbconvert_exporter": "python",
   "pygments_lexer": "ipython3",
   "version": "3.5.2"
  }
 },
 "nbformat": 4,
 "nbformat_minor": 0
}
